{
  "nbformat": 4,
  "nbformat_minor": 0,
  "metadata": {
    "colab": {
      "provenance": []
    },
    "kernelspec": {
      "name": "python3",
      "display_name": "Python 3"
    },
    "language_info": {
      "name": "python"
    }
  },
  "cells": [
    {
      "cell_type": "code",
      "execution_count": 174,
      "metadata": {
        "id": "zJ66T-88CUgQ"
      },
      "outputs": [],
      "source": [
        "import pandas as pd\n",
        "import numpy as np"
      ]
    },
    {
      "cell_type": "code",
      "source": [
        "fist= pd.read_csv('fist_10s_test_emg.csv')\n",
        "gun = pd.read_csv('gun_10s_test_emg.csv')\n",
        "half_heart = pd.read_csv('half_heart_10s_test_emg.csv')\n",
        "paper = pd.read_csv('paper_10s_test_emg.csv')\n",
        "zero = pd.read_csv('zero_10s_test_emg.csv')\n",
        "unknown = pd.read_csv('unknown_10s_test_emg.csv')\n"
      ],
      "metadata": {
        "id": "e8hX0AUWCmwp"
      },
      "execution_count": 175,
      "outputs": []
    },
    {
      "cell_type": "code",
      "source": [
        "#Data Normalization & concatenation\n",
        "\n",
        "fist_normalized = (fist - fist.min()) / (fist.max() - fist.min())\n",
        "fist_normalized.head()\n",
        "fist_normalized['y']=0\n",
        "fist_normalized.tail()\n",
        "\n",
        "gun_normalized = (gun - gun.min()) / (gun.max() - gun.min())\n",
        "gun_normalized.head()\n",
        "gun_normalized['y']=1\n",
        "gun_normalized.tail()\n",
        "\n",
        "half_heart_normalized = (half_heart - half_heart.min()) / (half_heart.max() - half_heart.min())\n",
        "half_heart_normalized.head()\n",
        "half_heart_normalized['y']= 2\n",
        "half_heart_normalized.tail()\n",
        "\n",
        "paper_normalized = (paper - paper.min()) / (paper.max() - paper.min())\n",
        "paper_normalized.head()\n",
        "paper_normalized['y']=3\n",
        "paper_normalized.tail()\n",
        "\n",
        "zero_normalized = (zero - zero.min()) / (zero.max() - zero.min())\n",
        "zero_normalized.head()\n",
        "zero_normalized['y']=4\n",
        "zero_normalized.tail()\n",
        "\n",
        "unknown_normalized = (unknown - unknown.min()) / (unknown.max() - unknown.min())\n",
        "unknown_normalized.head()\n",
        "unknown_normalized['y']=5\n",
        "unknown_normalized.tail()\n",
        "\n",
        "\n",
        "df1=pd.concat([fist_normalized,gun_normalized],axis= 0)\n",
        "df1.index= range(1,len(fist_normalized)+len(gun_normalized)+1)\n",
        "df1.head()\n",
        "\n",
        "df2=pd.concat([df1,half_heart_normalized],axis= 0)\n",
        "df2.index=  range(1,len(df1)+len(half_heart_normalized)+1)\n",
        "df2.head()\n",
        "\n",
        "df3=pd.concat([df2,paper_normalized],axis= 0)\n",
        "df3.index=  range(1,len(df2)+len(paper_normalized)+1)\n",
        "df3.tail()\n",
        "\n",
        "df4=pd.concat([df3,zero_normalized],axis= 0)\n",
        "df4.index=  range(1,len(df3)+len(zero_normalized)+1)\n",
        "df4.tail()\n",
        "\n",
        "df=pd.concat([df4,unknown_normalized],axis= 0)\n",
        "df.index=  range(1,len(df4)+len(unknown_normalized)+1)\n",
        "df.tail()\n",
        "\n",
        "df['y'].unique()\n"
      ],
      "metadata": {
        "colab": {
          "base_uri": "https://localhost:8080/"
        },
        "id": "LhejqAYLGx5X",
        "outputId": "e326c8c6-08df-4deb-e242-d23223939a6c"
      },
      "execution_count": 176,
      "outputs": [
        {
          "output_type": "execute_result",
          "data": {
            "text/plain": [
              "array([0, 1, 2, 3, 4, 5])"
            ]
          },
          "metadata": {},
          "execution_count": 176
        }
      ]
    },
    {
      "cell_type": "code",
      "source": [
        "# Defining training and testing sets plus standard scaling\n",
        "\n",
        "x=df[['Channel_1','Channel_2','Channel_3','Channel_4','Channel_5','Channel_6','Channel_7','Channel_8']]\n",
        "y=df['y']\n",
        "\n",
        "from sklearn.model_selection import train_test_split\n",
        "x_train, x_test, y_train, y_test = train_test_split(x,y, test_size=0.25, random_state=42)\n",
        "\n",
        "from sklearn.preprocessing import StandardScaler\n",
        "sc = StandardScaler()\n",
        "x_train = pd.DataFrame(sc.fit_transform(x_train))\n",
        "x_test = pd.DataFrame(sc.transform(x_test))\n"
      ],
      "metadata": {
        "id": "axHBYwvAfRlk"
      },
      "execution_count": 180,
      "outputs": []
    },
    {
      "cell_type": "code",
      "source": [
        "# Random forest classifier plus grid search & predictions\n",
        "\n",
        "from sklearn.ensemble import RandomForestClassifier\n",
        "from sklearn.model_selection import GridSearchCV\n",
        "\n",
        "lr_grid = {'max_depth' : [4,8,16,32,64,128],\n",
        "           'criterion' : ['entropy','gini']}\n",
        "\n",
        "clf = RandomForestClassifier(n_estimators=100, max_features='sqrt', random_state=42)\n",
        "\n",
        "gs = GridSearchCV(estimator = clf, param_grid=lr_grid,cv = 5)\n",
        "gs.fit(x_train,y_train)\n",
        "y_pred = gs.predict(x_test)"
      ],
      "metadata": {
        "id": "SCXHi1FdhuJw"
      },
      "execution_count": 183,
      "outputs": []
    },
    {
      "cell_type": "code",
      "source": [
        "# Metrics\n",
        "\n",
        "from sklearn.metrics import classification_report\n",
        "from sklearn.metrics import confusion_matrix\n",
        "\n",
        "print('Classification Report: \\n', classification_report(y_test,y_pred))\n",
        "print('Confusion Matrix: \\n', confusion_matrix(y_test,y_pred))"
      ],
      "metadata": {
        "colab": {
          "base_uri": "https://localhost:8080/"
        },
        "id": "FmGOc7OGku9j",
        "outputId": "1b27661f-e478-474c-9381-575c102d5081"
      },
      "execution_count": 168,
      "outputs": [
        {
          "output_type": "stream",
          "name": "stdout",
          "text": [
            "Classification Report: \n",
            "               precision    recall  f1-score   support\n",
            "\n",
            "           0       0.95      0.96      0.96       139\n",
            "           1       0.93      0.90      0.91       125\n",
            "           2       0.80      0.87      0.83       115\n",
            "           3       0.92      0.92      0.92       121\n",
            "           4       0.94      0.90      0.92       129\n",
            "           5       0.98      0.97      0.97       118\n",
            "\n",
            "    accuracy                           0.92       747\n",
            "   macro avg       0.92      0.92      0.92       747\n",
            "weighted avg       0.92      0.92      0.92       747\n",
            "\n",
            "Confusion Matrix: \n",
            " [[134   1   2   2   0   0]\n",
            " [  0 112   7   4   1   1]\n",
            " [  4   4 100   1   5   1]\n",
            " [  1   0   8 111   1   0]\n",
            " [  1   1   8   3 116   0]\n",
            " [  1   3   0   0   0 114]]\n"
          ]
        }
      ]
    },
    {
      "cell_type": "code",
      "source": [
        "print(\"Best Parameters: \", gs.best_params_)"
      ],
      "metadata": {
        "colab": {
          "base_uri": "https://localhost:8080/"
        },
        "id": "ouIA0RX6lQ-M",
        "outputId": "e32c8ffd-d2f1-42aa-ab66-d1dc0132d14f"
      },
      "execution_count": 173,
      "outputs": [
        {
          "output_type": "stream",
          "name": "stdout",
          "text": [
            "Best Parameters:  {'criterion': 'gini', 'max_depth': 32}\n"
          ]
        }
      ]
    },
    {
      "cell_type": "code",
      "source": [],
      "metadata": {
        "id": "r18_E-VFlp6L"
      },
      "execution_count": null,
      "outputs": []
    }
  ]
}